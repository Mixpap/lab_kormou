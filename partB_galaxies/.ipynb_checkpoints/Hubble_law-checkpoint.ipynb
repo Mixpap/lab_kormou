{
 "cells": [
  {
   "cell_type": "markdown",
   "metadata": {},
   "source": [
    "### Hubble's law and the age of the Universe\n"
   ]
  },
  {
   "cell_type": "markdown",
   "metadata": {},
   "source": [
    "### Φορτώνουμε βιβλιοθήκες"
   ]
  },
  {
   "cell_type": "code",
   "execution_count": 1,
   "metadata": {},
   "outputs": [],
   "source": [
    "import numpy as np\n",
    "from numpy import nan\n",
    "import matplotlib.pyplot as plt # Matplotlib is the standard library for making plots\n",
    "from scipy.optimize import curve_fit \n",
    "plt.rcParams['figure.figsize'] = [14, 8] # This is a global Matplotlib parameters for the default figure size\n",
    "# in case you opened this file from the wrong directory\n",
    "#import os  \n",
    "#cwd=os.getcwd(); print(cwd)\n",
    "#path='/Users/labuser...'\n",
    "#os.chdir(path)\n"
   ]
  },
  {
   "cell_type": "markdown",
   "metadata": {},
   "source": [
    "### Μετρήσεις για γωνιακά μεγέθη\n",
    "Υποθέτουμε ότι η φαινόμενη διάμετρος ενός γαλαξία στον ουρανό είναι $d$ ($d\\simeq 22\\,\\mathrm{kpc}$)\n",
    "\n",
    "Για πολύ μικρή γωνία $\\alpha$ μπορούμε να χρησιμποιήσουμε την $\\tan \\alpha \\sim \\alpha$\n",
    "άρα\n",
    "$$\n",
    "\\tan \\alpha \\sim \\alpha = \\frac{d}{D} \\rightarrow  D=\\frac{d}{\\alpha}\n",
    "$$\n",
    "\n",
    "**ΠΡΟΣΟΧΗ: Υποθέτουμε Ευκλείδια κοσμολογία, ισχύει για πολύ κοντινούς μόνο!**"
   ]
  },
  {
   "cell_type": "code",
   "execution_count": 27,
   "metadata": {},
   "outputs": [
    {
     "name": "stdout",
     "output_type": "stream",
     "text": [
      "You added 2 measurements\n",
      "[19.48627104 22.22222222]\n"
     ]
    }
   ],
   "source": [
    "angular_diameter=np.array([1.182,0.605,0.982,0.450,0.785])*1e-3 #radians (ADD YOUR OWN MEASUREMENTS)\n",
    "print(f\"You added {len(angular_diameter)} measurements\")\n",
    "d_galaxy=22. #intrinsic diameter in kpc\n",
    "distance = d_galaxy / angular_diameter # kpc\n",
    "distance /= 1000. # to Mpc\n",
    "print(distance)"
   ]
  },
  {
   "cell_type": "markdown",
   "metadata": {},
   "source": [
    "### Μετρήσεις ερυθρομετατόπισης\n",
    "Λόγω του φαινομένου Doppler μια γραμμή εκπομπής (ή απορρόφησης) μετατοπίζεται από τη εργαστηριακή της τιμή $\\lambda _\\mathrm{emit}$ κατα $\\delta \\lambda=\\lambda _\\mathrm{obs}- \\lambda _\\mathrm{emit}$. \n",
    "\n",
    "Η σχετική ταχύτητα μπορεί να υπολογιστεί από τη σχέση $V=z c $ όπου $z$ ορίζουμε τη ποσότητα $ z=\\frac{\\delta \\lambda}{\\lambda _\\mathrm{emit}}$, άρα\n",
    "\n",
    "$$\n",
    "V=c \\frac{\\delta \\lambda}{\\lambda _\\mathrm{emit}}\n",
    "$$"
   ]
  },
  {
   "cell_type": "markdown",
   "metadata": {},
   "source": [
    "#### Γραμμή Ca K (3933.7 A), Ca H (3968.5 A) και Ha (6562.8 A)\n"
   ]
  },
  {
   "cell_type": "code",
   "execution_count": 28,
   "metadata": {},
   "outputs": [],
   "source": [
    "lambda_emit_CAK=3933.7\n",
    "lambda_emit_CAH=3968.5\n",
    "lambda_emit_Ha=6562.8\n",
    "c=2.9979e5 #km/s"
   ]
  },
  {
   "cell_type": "code",
   "execution_count": 29,
   "metadata": {},
   "outputs": [
    {
     "name": "stdout",
     "output_type": "stream",
     "text": [
      "You added 2 CaK, 2 CaH, 2 Ha measurements\n"
     ]
    }
   ],
   "source": [
    "lambda_obs_CAK=np.array([3962.2,3959.8,3965.3,3951.3,3966.8  ]) #(ADD YOUR OWN MEASUREMENTS)\n",
    "lambda_obs_CAH=np.array([3997.,3995.5,3996.2,3975.4,4001.7]) #(ADD YOUR OWN MEASUREMENTS)\n",
    "lambda_obs_Ha=np.array([6608.2,6606.7,6614,6592.,6609.8]) #(ADD YOUR OWN MEASUREMENTS)\n",
    "print(f\"You added {len(lambda_obs_CAK)} CaK, {len(lambda_obs_CAK)} CaH, {len(lambda_obs_CAK)} Ha measurements\")"
   ]
  },
  {
   "cell_type": "code",
   "execution_count": 30,
   "metadata": {},
   "outputs": [],
   "source": [
    "z_CAK=(lambda_obs_CAK - lambda_emit_CAK)/lambda_emit_CAK\n",
    "z_CAH=(lambda_obs_CAH - lambda_emit_CAH)/lambda_emit_CAH\n",
    "z_Ha=(lambda_obs_Ha - lambda_emit_Ha)/lambda_emit_Ha"
   ]
  },
  {
   "cell_type": "code",
   "execution_count": 31,
   "metadata": {},
   "outputs": [
    {
     "name": "stdout",
     "output_type": "stream",
     "text": [
      "[0.00762479 0.00841741]\n",
      "[19.48627104 22.22222222] [2285.83618937 2523.45424144]\n"
     ]
    }
   ],
   "source": [
    "z_mean=(z_CAK+z_CAH+z_Ha)/3\n",
    "# In case you have nan's in your data you can use nanmean function which calculates the mean without taking care the nan values\n",
    "z_mean=np.nanmean([z_CAK,z_CAH,z_Ha],axis=0)\n",
    "z_std=np.nanstd([z_CAK,z_CAH,z_Ha],axis=0)\n",
    "print(z_mean)\n",
    "v=c*z_mean\n",
    "print(distance,v)\n"
   ]
  },
  {
   "cell_type": "code",
   "execution_count": 32,
   "metadata": {},
   "outputs": [
    {
     "data": {
      "text/plain": [
       "Text(0, 0.5, 'Velocity [km/s]')"
      ]
     },
     "execution_count": 32,
     "metadata": {},
     "output_type": "execute_result"
    },
    {
     "data": {
      "image/png": "[encoded data removed]",
      "text/plain": [
       "<Figure size 1008x576 with 1 Axes>"
      ]
     },
     "metadata": {
      "needs_background": "light"
     },
     "output_type": "display_data"
    }
   ],
   "source": [
    "# plot the x,y data\n",
    "plt.plot(distance,v,'o') \n",
    "plt.grid()\n",
    "plt.xlabel('distance [Mpc]')\n",
    "plt.ylabel('Velocity [km/s]')"
   ]
  },
  {
   "cell_type": "markdown",
   "metadata": {},
   "source": [
    "### Προσαρμογή ευθείας με χ^2\n",
    "#### Μοντέλο γραμμικής διαστολής του Hubble\n",
    "$$\n",
    "V(D)=\\mathrm{const}+H_0 \\times D\n",
    "$$\n",
    "* D in $\\mathrm{Mpc}$\n",
    "* $H_0$ in $\\mathrm{(km/s)/Mpc}$\n",
    "* V in $\\mathrm{km/s}$"
   ]
  },
  {
   "cell_type": "code",
   "execution_count": 33,
   "metadata": {},
   "outputs": [
    {
     "name": "stdout",
     "output_type": "stream",
     "text": [
      "const = (593.4 +/- inf) km/s\n",
      "H0 = (86.9 +/- inf) km/s/Mpc\n"
     ]
    },
    {
     "name": "stderr",
     "output_type": "stream",
     "text": [
      "/Applications/anaconda3/lib/python3.8/site-packages/scipy/optimize/minpack.py:828: OptimizeWarning: Covariance of the parameters could not be estimated\n",
      "  warnings.warn('Covariance of the parameters could not be estimated',\n"
     ]
    }
   ],
   "source": [
    "def HubbleLaw(x,const,H0): return (const+H0*x)\n",
    "popt, pcov = curve_fit(HubbleLaw, distance, v)#, sigma=dv)\n",
    "dpopt=np.sqrt(np.diag(pcov)) # from the covariance matrix we get the error on parameters\n",
    "print(f\"const = ({popt[0]:.1f} +/- {dpopt[0]:.2f}) km/s\")\n",
    "print(f\"H0 = ({popt[1]:.1f} +/- {dpopt[1]:.2f}) km/s/Mpc\") \n",
    "const=popt[0]\n",
    "H0=popt[1]\n"
   ]
  },
  {
   "cell_type": "code",
   "execution_count": 34,
   "metadata": {},
   "outputs": [
    {
     "data": {
      "text/plain": [
       "[<matplotlib.lines.Line2D at 0x7fc5aa811220>]"
      ]
     },
     "execution_count": 34,
     "metadata": {},
     "output_type": "execute_result"
    },
    {
     "data": {
      "image/png": "[encoded data removed]",
      "text/plain": [
       "<Figure size 1008x576 with 1 Axes>"
      ]
     },
     "metadata": {
      "needs_background": "light"
     },
     "output_type": "display_data"
    }
   ],
   "source": [
    "# plot the x,y data\n",
    "plt.plot(distance,v,'o',) \n",
    "plt.xlabel('distance [Mpc]')\n",
    "plt.ylabel('Velocity [km/s]')\n",
    "plt.grid()\n",
    "# plot the best fit model\n",
    "plt.plot(distance,const+H0*distance,label='best line',color='darkviolet')\n"
   ]
  },
  {
   "cell_type": "code",
   "execution_count": 35,
   "metadata": {},
   "outputs": [
    {
     "data": {
      "text/plain": [
       "<matplotlib.patches.Polygon at 0x7fc5aaa579a0>"
      ]
     },
     "execution_count": 35,
     "metadata": {},
     "output_type": "execute_result"
    },
    {
     "data": {
      "image/png": "[encoded data removed]",
      "text/plain": [
       "<Figure size 1008x576 with 1 Axes>"
      ]
     },
     "metadata": {
      "needs_background": "light"
     },
     "output_type": "display_data"
    }
   ],
   "source": [
    "Hvals={\"Planck\":[67.4,0.5],\n",
    "\"DES+BAO+BBN\":[67.4,1.1],\n",
    "\"SH0ES\":[74,1.4],\n",
    "\"CCHP\":[69.8,1.9],\n",
    "\"MIRAS\":[73.6,3.9],\n",
    "\"H0LiCOW\":[73.3,1.7],\n",
    "\"MCP\":[74.8,3.1],\n",
    "\"SBF\":[76.5,4],}\n",
    "Y=10\n",
    "for val in Hvals:\n",
    "    Y=Y-1\n",
    "    plt.text(Hvals[val][0],Y+0.1,val+f\" {Hvals[val][0]} $\\pm$ {Hvals[val][1]}\",horizontalalignment=\"center\")\n",
    "    plt.errorbar(Hvals[val][0],Y,fmt='o',yerr=0,xerr=Hvals[val][1],linewidth=3)\n",
    "plt.xlabel(\"H0 [(km/s)/Mpc]\")\n",
    "plt.tick_params(\n",
    "    axis='y',          # changes apply to the x-axis\n",
    "    which='both',      # ticks along the bottom edge are off\n",
    "    left=False,         # ticks along the top edge are off\n",
    "    labelleft=False)\n",
    "plt.axvline(H0)\n",
    "plt.axvspan(H0-dpopt[1],H0+dpopt[1],alpha=0.2)"
   ]
  },
  {
   "cell_type": "markdown",
   "metadata": {},
   "source": [
    "### Estimation of the \"age\" of the universe.\n",
    "#### Units transformations\n",
    "$$\n",
    "\\big[H_0\\big]=\\mathrm{(km/s)/Mpc}=\\frac{1}{9.8 \\times 10^{11} \\mathrm{yrs}}\n",
    "$$"
   ]
  },
  {
   "cell_type": "code",
   "execution_count": 36,
   "metadata": {},
   "outputs": [
    {
     "name": "stdout",
     "output_type": "stream",
     "text": [
      "1.13E+10 yrs\n"
     ]
    }
   ],
   "source": [
    "kms_s_Mpc_to_inv_yrs=9.8e11\n",
    "age_of_universe=1/H0 * kms_s_Mpc_to_inv_yrs\n",
    "print(f\"{age_of_universe:.2E} yrs\")"
   ]
  },
  {
   "cell_type": "code",
   "execution_count": 37,
   "metadata": {},
   "outputs": [
    {
     "data": {
      "text/plain": [
       "[\"[W 17:30:04.277 NotebookApp] Unrecognized alias: 'to', it will have no effect.\",\n",
       " '[C 17:30:04.278 NotebookApp] No such file or directory: /Users/kdasyra/Library/Mobile Documents/com~apple~CloudDocs/courses/lab/kormou/lab-spectroscopy/lab_kormou/galaxies/nbconvert']"
      ]
     },
     "execution_count": 37,
     "metadata": {},
     "output_type": "execute_result"
    }
   ],
   "source": [
    "!!jupyter nbconvert *.ipynb --to html"
   ]
  },
  {
   "cell_type": "code",
   "execution_count": null,
   "metadata": {},
   "outputs": [],
   "source": []
  }
 ],
 "metadata": {
  "kernelspec": {
   "display_name": "Python 3",
   "language": "python",
   "name": "python3"
  },
  "language_info": {
   "codemirror_mode": {
    "name": "ipython",
    "version": 3
   },
   "file_extension": ".py",
   "mimetype": "text/x-python",
   "name": "python",
   "nbconvert_exporter": "python",
   "pygments_lexer": "ipython3",
   "version": "3.8.5"
  }
 },
 "nbformat": 4,
 "nbformat_minor": 4
}
