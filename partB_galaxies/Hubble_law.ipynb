{
 "cells": [
  {
   "cell_type": "markdown",
   "metadata": {},
   "source": [
    "### Hubble's law and the age of the Universe\n"
   ]
  },
  {
   "cell_type": "markdown",
   "metadata": {},
   "source": [
    "### Φορτώνουμε βιβλιοθήκες"
   ]
  },
  {
   "cell_type": "code",
   "execution_count": 1,
   "metadata": {},
   "outputs": [],
   "source": [
    "import numpy as np\n",
    "from numpy import nan\n",
    "import matplotlib.pyplot as plt # Matplotlib is the standard library for making plots\n",
    "plt.rcParams['figure.figsize'] = [14, 8] # This is a global Matplotlib parameters for the default figure size\n",
    "from scipy.optimize import curve_fit \n",
    "# in case you opened this file from the wrong directory\n",
    "#import os  \n",
    "#cwd=os.getcwd(); print(cwd)\n",
    "#path='/Users/labuser...'\n",
    "#os.chdir(path)\n"
   ]
  },
  {
   "cell_type": "markdown",
   "metadata": {},
   "source": [
    "### Μετρήσεις "
   ]
  },
  {
   "cell_type": "code",
   "execution_count": 27,
   "metadata": {},
   "outputs": [],
   "source": [
    "#(ADD YOUR OWN MEASUREMENTS FOR AS MANY GALAXIES AS DESIRED, ONE LINE AT A TIME\n",
    "\n",
    "data=np.array([\n",
    "[1.182, 0.1, 3962.2, 3997.,6608.2], #NGC1357\n",
    "[1.605,0.2,3959.8,3995.5,6606.7],\n",
    "[0.982,0.05,3965.3,3996.2,6614],\n",
    "]).T\n",
    "\n",
    "angular_diameter = data[0] *1e-3\n",
    "angular_diameter_error = data[1] *1e-3\n",
    "lambda_obs_CaK = data[2]\n",
    "lambda_obs_CaH = data[3]\n",
    "lambda_obs_Ha = data[4]\n"
   ]
  },
  {
   "cell_type": "markdown",
   "metadata": {},
   "source": [
    "Σημείωση για γωνιακά μεγέθη\n",
    "Υποθέτουμε ότι η διάμετρος ενός γαλαξία στον ουρανό είναι $d$ ($d\\simeq 22\\,\\mathrm{kpc}$)\n",
    "\n",
    "Για πολύ μικρή γωνία $\\alpha$ μπορούμε να χρησιμποιήσουμε την $\\tan \\alpha \\sim \\alpha$\n",
    "άρα\n",
    "$$\n",
    "\\tan \\alpha \\sim \\alpha = \\frac{d}{D} \\rightarrow  D=\\frac{d}{\\alpha}\n",
    "$$\n",
    "\n",
    "**ΠΡΟΣΟΧΗ: Υποθέτουμε Ευκλείδια κοσμολογία, ισχύει για πολύ κοντινούς μόνο!**"
   ]
  },
  {
   "cell_type": "code",
   "execution_count": 41,
   "metadata": {},
   "outputs": [
    {
     "name": "stdout",
     "output_type": "stream",
     "text": [
      "[18.61252115 13.70716511 22.40325866] [1.57466338 1.70805796 1.14069545]\n"
     ]
    }
   ],
   "source": [
    "d_galaxy=22. #intrinsic diameter in kpc\n",
    "distance = d_galaxy / angular_diameter # kpc\n",
    "distance /= 1000. # to Mpc\n",
    "\n",
    "distance_error = d_galaxy / angular_diameter**2 * angular_diameter_error # kpc\n",
    "distance_error /= 1000. # to Mpc\n",
    "\n",
    "print(distance, distance_error)"
   ]
  },
  {
   "cell_type": "markdown",
   "metadata": {},
   "source": [
    "### Eρυθρομετατόπιση\n",
    "Λόγω του φαινομένου Doppler μια γραμμή εκπομπής (ή απορρόφησης) μετατοπίζεται από τη εργαστηριακή της τιμή $\\lambda _\\mathrm{emit}$ κατα $\\delta \\lambda=\\lambda _\\mathrm{obs}- \\lambda _\\mathrm{emit}$. \n",
    "\n",
    "Η σχετική ταχύτητα μπορεί να υπολογιστεί από τη σχέση $V=z c $ όπου $z$ ορίζουμε τη ποσότητα $ z=\\frac{\\delta \\lambda}{\\lambda _\\mathrm{emit}}$, άρα\n",
    "\n",
    "$$\n",
    "V=c \\frac{\\delta \\lambda}{\\lambda _\\mathrm{emit}}\n",
    "$$\n",
    "\n",
    "Εργαστηριακές τιμές: γραμμή Ca K = 3933.7 A, Ca H = 3968.5 A και Ha = 6562.8 A\n",
    "\n"
   ]
  },
  {
   "cell_type": "code",
   "execution_count": 37,
   "metadata": {},
   "outputs": [
    {
     "name": "stdout",
     "output_type": "stream",
     "text": [
      "[2132.9479968  2011.3681461  2279.86945485]\n"
     ]
    }
   ],
   "source": [
    "def compute_redshift(lambda_obs,lambda_emit): return (lambda_obs-lambda_emit)/lambda_emit\n",
    "    \n",
    "z_CaK=compute_redshift(lambda_obs_CaK,3933.7)\n",
    "z_CaH=compute_redshift(lambda_obs_CaH,3968.5)\n",
    "z_Ha=compute_redshift(lambda_obs_Ha, 6562.8)\n",
    "\n",
    "z_mean=(z_CaK+z_CaH+z_Ha)/3.\n",
    "\n",
    "# In case you have nan's in your data you can use nanmean function which calculates the mean without taking care the nan values\n",
    "# z_mean=np.nanmean([z_CAK,z_CAH,z_Ha],axis=0)\n",
    "# z_std=np.nanstd([z_CAK,z_CAH,z_Ha],axis=0)\n",
    "\n",
    "c=2.9979e5 #km/s\n",
    "v=c*z_mean \n",
    "print(v)\n",
    "\n"
   ]
  },
  {
   "cell_type": "code",
   "execution_count": 58,
   "metadata": {},
   "outputs": [
    {
     "name": "stdout",
     "output_type": "stream",
     "text": [
      "slope = (0.031 +/- 0.004) km/s/Mpc\n"
     ]
    },
    {
     "data": {
      "text/plain": [
       "[<matplotlib.lines.Line2D at 0x7f87a86b8760>]"
      ]
     },
     "execution_count": 58,
     "metadata": {},
     "output_type": "execute_result"
    },
    {
     "data": {
      "image/png": "[encoded data removed]",
      "text/plain": [
       "<Figure size 1008x576 with 1 Axes>"
      ]
     },
     "metadata": {
      "needs_background": "light"
     },
     "output_type": "display_data"
    }
   ],
   "source": [
    "plt.errorbar(v,distance, yerr=distance_error,fmt='o')\n",
    "plt.ylabel('distance [Mpc]')\n",
    "plt.xlabel('Velocity [km/s]')\n",
    "\n",
    "\n",
    "def line(x,const,slope): return (const+slope*x)\n",
    "popt, pcov = curve_fit(line, v, distance, sigma=distance_error)\n",
    "\n",
    "const=popt[0]\n",
    "slope=popt[1]\n",
    "dpopt=np.sqrt(np.diag(pcov)) \n",
    "\n",
    "#print(f\"const = ({popt[0]:.1f} +/- {dpopt[0]:.2f}) km/s\")\n",
    "print(f\"slope = ({slope:.3f} +/- {dpopt[1]:.3f}) km/s/Mpc\") \n",
    "\n",
    "# plot the best fit model\n",
    "plt.plot(v,const+slope*v,label='best line',color='darkviolet')\n"
   ]
  },
  {
   "cell_type": "markdown",
   "metadata": {},
   "source": [
    "### Εκτίμηση μιας (ελάχιστης) ηλικίας του Σύμπαντος\n",
    "Προκύπτει από την απόσταση δια την ταχύτητα του μακρυνότερου γαλαξία, εφόσον το φως πήρε τόσο χρόνο να ταξιδέψει από εκεί σε ένα Ευκλειδιο, γραμμικό Σύμπαν. Επίσης προκύπτει από την κλίση του παραπάνω γραφήματος, θεωρώντας ότι η ευθεία περνάει από το μακρυνότερο γαλαξία. \n",
    "Προσοχή στις μονάδες: 1 Mpc = 3.09e19 km και 1s = 3.17e-17 Gyrs\n",
    "άρα 1 Mpc/(km/s) = 978 Gyrs"
   ]
  },
  {
   "cell_type": "code",
   "execution_count": 71,
   "metadata": {},
   "outputs": [
    {
     "name": "stdout",
     "output_type": "stream",
     "text": [
      "A rough estimate of the age of the Universe from the most distant galaxy [Gyrs]: 9.997333333333334\n",
      "Likewise, from the slope [Gyrs]: 30.69426016417704\n"
     ]
    }
   ],
   "source": [
    "print(\"A rough estimate of the age of the Universe from the most distant galaxy [Gyrs]:\",23/2250.*978)\n",
    "print(\"Likewise, from the slope [Gyrs]:\",slope*978)\n",
    "#print(f\"{age_of_universe:.2E} yrs\")"
   ]
  },
  {
   "cell_type": "markdown",
   "metadata": {},
   "source": [
    "Ανάστροφα, ο Hubble έκανε το γράφημα V συναρτήσει του D οπότε το 1/slope που μολις βρήκαμε είναι η σταθερά που πήρε το ονομά του. Παρακάτω θα κάνουμε το γράφημα όπως αυτός και θα συγκρίνουμε με τιμές της βιβλιογραφίας."
   ]
  },
  {
   "cell_type": "code",
   "execution_count": 82,
   "metadata": {},
   "outputs": [
    {
     "data": {
      "image/png": "[encoded data removed]",
      "text/plain": [
       "<Figure size 1008x576 with 1 Axes>"
      ]
     },
     "metadata": {
      "needs_background": "light"
     },
     "output_type": "display_data"
    }
   ],
   "source": [
    "plt.plot(distance,v,'o')\n",
    "plt.xlabel('distance [Mpc]')\n",
    "plt.ylabel('Velocity [km/s]')\n",
    " \n",
    "H0=1./slope\n",
    "H0_error=1./slope**2 * dpopt[1]"
   ]
  },
  {
   "cell_type": "code",
   "execution_count": 83,
   "metadata": {},
   "outputs": [
    {
     "data": {
      "text/plain": [
       "<matplotlib.patches.Polygon at 0x7f87a9958790>"
      ]
     },
     "execution_count": 83,
     "metadata": {},
     "output_type": "execute_result"
    },
    {
     "data": {
      "image/png": "[encoded data removed]",
      "text/plain": [
       "<Figure size 1008x576 with 1 Axes>"
      ]
     },
     "metadata": {
      "needs_background": "light"
     },
     "output_type": "display_data"
    }
   ],
   "source": [
    "Hvals={\"Planck\":[67.4,0.5],\n",
    "\"DES+BAO+BBN\":[67.4,1.1],\n",
    "\"SH0ES\":[74,1.4],\n",
    "\"CCHP\":[69.8,1.9],\n",
    "\"MIRAS\":[73.6,3.9],\n",
    "\"H0LiCOW\":[73.3,1.7],\n",
    "\"MCP\":[74.8,3.1],\n",
    "\"SBF\":[76.5,4],}\n",
    "Y=10\n",
    "for val in Hvals:\n",
    "    Y=Y-1\n",
    "    plt.text(Hvals[val][0],Y+0.1,val+f\" {Hvals[val][0]} $\\pm$ {Hvals[val][1]}\",horizontalalignment=\"center\")\n",
    "    plt.errorbar(Hvals[val][0],Y,fmt='o',yerr=0,xerr=Hvals[val][1],linewidth=3)\n",
    "plt.xlabel(\"H0 [(km/s)/Mpc]\")\n",
    "plt.tick_params(\n",
    "    axis='y',          # changes apply to the x-axis\n",
    "    which='both',      # ticks along the bottom edge are off\n",
    "    left=False,         # ticks along the top edge are off\n",
    "    labelleft=False)\n",
    "plt.axvline(H0)\n",
    "plt.axvspan(H0-H0_error,H0+H0_error,alpha=0.2)"
   ]
  },
  {
   "cell_type": "code",
   "execution_count": 37,
   "metadata": {},
   "outputs": [
    {
     "data": {
      "text/plain": [
       "[\"[W 17:30:04.277 NotebookApp] Unrecognized alias: 'to', it will have no effect.\",\n",
       " '[C 17:30:04.278 NotebookApp] No such file or directory: /Users/kdasyra/Library/Mobile Documents/com~apple~CloudDocs/courses/lab/kormou/lab-spectroscopy/lab_kormou/galaxies/nbconvert']"
      ]
     },
     "execution_count": 37,
     "metadata": {},
     "output_type": "execute_result"
    }
   ],
   "source": [
    "#!!jupyter nbconvert *.ipynb --to html"
   ]
  },
  {
   "cell_type": "code",
   "execution_count": null,
   "metadata": {},
   "outputs": [],
   "source": []
  }
 ],
 "metadata": {
  "kernelspec": {
   "display_name": "Python 3",
   "language": "python",
   "name": "python3"
  },
  "language_info": {
   "codemirror_mode": {
    "name": "ipython",
    "version": 3
   },
   "file_extension": ".py",
   "mimetype": "text/x-python",
   "name": "python",
   "nbconvert_exporter": "python",
   "pygments_lexer": "ipython3",
   "version": "3.8.5"
  }
 },
 "nbformat": 4,
 "nbformat_minor": 4
}
